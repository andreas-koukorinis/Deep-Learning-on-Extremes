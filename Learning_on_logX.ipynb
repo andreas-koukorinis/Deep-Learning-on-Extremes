{
 "cells": [
  {
   "cell_type": "markdown",
   "metadata": {},
   "source": [
    "# Deep Learning of the Extreme Value Index\n",
    "\n",
    "Estimating the extreme value index, which describes the tail behavior of Pareto-type distributions, is a complex task and estimators usually depend on the choice of a threshold, above which the data can be used for statistical inference on extreme events. <br>\n",
    "The question I want to discuss here is: Can I train a network on random samples to determine the extreme value index without the selection of a threshod?"
   ]
  },
  {
   "cell_type": "code",
   "execution_count": 2,
   "metadata": {},
   "outputs": [],
   "source": [
    "import tensorflow as tf\n",
    "import numpy as np\n",
    "import matplotlib.pyplot as plt\n",
    "import scipy.stats as stat\n",
    "import random\n",
    "\n",
    "np.random.seed(42)\n",
    "tf.set_random_seed(42)"
   ]
  },
  {
   "cell_type": "markdown",
   "metadata": {},
   "source": [
    "In the following the training data is generated. For the network to learn well it is very important to obtain training samples, which represent a broad class of distributions. <br>\n",
    "Since I am working on samples from heavy-tailed distributions, which can include extremely high values, I can not use the samples directly for training the network. Instead of the raw obervations I look at their logarithm. This trick leads to a more reasonable range of observed values and is also a natural thing to do in extreme value statistics, as it leads to an exponential approximation of the peak-over-threshold approach instead of a pareto approximation."
   ]
  },
  {
   "cell_type": "code",
   "execution_count": 3,
   "metadata": {},
   "outputs": [],
   "source": [
    "N=500\n",
    "M=5000\n",
    "\n",
    "train_data=np.zeros((3*M,N))\n",
    "labels=np.zeros(3*M)\n",
    "\n",
    "for i in range(M):\n",
    "    degree=np.random.randint(1,12)\n",
    "    X=np.random.standard_t(df=degree, size=N)\n",
    "    train_data[i,]=np.log(abs(X))\n",
    "    labels[i]=1./degree\n",
    "    \n",
    "for i in range(M):\n",
    "    gamma=np.random.uniform(low=0, high=3)\n",
    "    X=stat.invweibull.rvs(c=1/gamma, size=N)\n",
    "    train_data[M+i,]=np.log(X)\n",
    "    labels[M+i]=gamma\n",
    "\n",
    "for i in range(M):\n",
    "    gamma=np.random.uniform(low=0, high=3)\n",
    "    X=np.random.uniform(size=N)\n",
    "    X=np.power((1/(1-X) -1), gamma)\n",
    "    train_data[2*M+i,]=np.log(X)\n",
    "    labels[2*M+i]=gamma\n",
    "    "
   ]
  },
  {
   "cell_type": "markdown",
   "metadata": {},
   "source": [
    "## The network architecture\n",
    "\n",
    "In the case considered here, where the input does not contain structral properties, the only useful network is a fully connnected sequential model."
   ]
  },
  {
   "cell_type": "code",
   "execution_count": 4,
   "metadata": {},
   "outputs": [],
   "source": [
    "modelH=tf.keras.models.Sequential()\n",
    "modelH.add(tf.keras.layers.Dense(N, input_shape=(N,) , activation='relu', use_bias=True))\n",
    "modelH.add(tf.keras.layers.Dense(2*N, activation='relu', use_bias=True ))\n",
    "modelH.add(tf.keras.layers.Dense(N, activation='relu', use_bias=True ))\n",
    "modelH.add(tf.keras.layers.Dense(1, use_bias=True))\n",
    "\n",
    "modelH.compile(optimizer='adam', loss='mse', metrics=[\"mae\"])\n",
    "#RMSprop each model varies a lot\n",
    "#SGD leads  to nan\n",
    "#with Adam the loss can increase by times"
   ]
  },
  {
   "cell_type": "markdown",
   "metadata": {},
   "source": [
    "Just a short check, if the initialized function values are not too far away from the true labels. Starting values that are by orders of magnitude higher or smaller than the true label values would lead too a very slow training speed."
   ]
  },
  {
   "cell_type": "code",
   "execution_count": 5,
   "metadata": {},
   "outputs": [
    {
     "data": {
      "text/plain": [
       "array([[-0.16088665],\n",
       "       [-0.93340528],\n",
       "       [-0.55824888],\n",
       "       ..., \n",
       "       [-0.48357075],\n",
       "       [ 0.16883616],\n",
       "       [-0.02772872]], dtype=float32)"
      ]
     },
     "execution_count": 5,
     "metadata": {},
     "output_type": "execute_result"
    }
   ],
   "source": [
    "modelH.predict(train_data)"
   ]
  },
  {
   "cell_type": "code",
   "execution_count": 6,
   "metadata": {},
   "outputs": [],
   "source": [
    "test_data=np.zeros((3*M,N))\n",
    "test_labels=np.zeros(3*M)\n",
    "\n",
    "for i in range(M):\n",
    "    degree=np.random.randint(1,12)\n",
    "    X=np.random.standard_t(df=degree, size=N)\n",
    "    test_data[i,]=np.log(abs(X))\n",
    "    test_labels[i]=1./degree\n",
    "    \n",
    "for i in range(M):\n",
    "    gamma=np.random.uniform(low=0, high=3)\n",
    "    X=stat.invweibull.rvs(c=1/gamma, size=N)\n",
    "    test_data[M+i,]=np.log(X)\n",
    "    test_labels[M+i]=gamma\n",
    "\n",
    "for i in range(M):\n",
    "    gamma=np.random.uniform(low=0, high=3)\n",
    "    X=np.random.uniform(size=N)\n",
    "    X=np.power((1/(1-X) -1), gamma)\n",
    "    test_data[2*M+i,]=np.log(X)\n",
    "    test_labels[2*M+i]=gamma\n",
    "    "
   ]
  },
  {
   "cell_type": "code",
   "execution_count": 7,
   "metadata": {},
   "outputs": [
    {
     "name": "stdout",
     "output_type": "stream",
     "text": [
      "Train on 15000 samples, validate on 15000 samples\n",
      "Epoch 1/50\n",
      "15000/15000 [==============================] - 5s 346us/step - loss: 0.5350 - mean_absolute_error: 0.2062 - val_loss: 0.0182 - val_mean_absolute_error: 0.0937\n",
      "Epoch 2/50\n",
      "15000/15000 [==============================] - 5s 323us/step - loss: 0.0124 - mean_absolute_error: 0.0796 - val_loss: 0.0154 - val_mean_absolute_error: 0.0858\n",
      "Epoch 3/50\n",
      "15000/15000 [==============================] - 5s 319us/step - loss: 0.0081 - mean_absolute_error: 0.0663 - val_loss: 0.0147 - val_mean_absolute_error: 0.0836\n",
      "Epoch 4/50\n",
      "15000/15000 [==============================] - 5s 325us/step - loss: 0.0058 - mean_absolute_error: 0.0572 - val_loss: 0.0156 - val_mean_absolute_error: 0.0857\n",
      "Epoch 5/50\n",
      "15000/15000 [==============================] - 5s 319us/step - loss: 0.0048 - mean_absolute_error: 0.0521 - val_loss: 0.0135 - val_mean_absolute_error: 0.0813\n",
      "Epoch 6/50\n",
      "15000/15000 [==============================] - 5s 319us/step - loss: 0.0050 - mean_absolute_error: 0.0525 - val_loss: 0.0139 - val_mean_absolute_error: 0.0812\n",
      "Epoch 7/50\n",
      "15000/15000 [==============================] - 5s 318us/step - loss: 0.0054 - mean_absolute_error: 0.0534 - val_loss: 0.0129 - val_mean_absolute_error: 0.0793\n",
      "Epoch 8/50\n",
      "15000/15000 [==============================] - 5s 324us/step - loss: 0.0068 - mean_absolute_error: 0.0586 - val_loss: 0.0133 - val_mean_absolute_error: 0.0799\n",
      "Epoch 9/50\n",
      "15000/15000 [==============================] - 5s 319us/step - loss: 0.0070 - mean_absolute_error: 0.0594 - val_loss: 0.0142 - val_mean_absolute_error: 0.0828\n",
      "Epoch 10/50\n",
      "15000/15000 [==============================] - 5s 321us/step - loss: 0.0065 - mean_absolute_error: 0.0567 - val_loss: 0.0126 - val_mean_absolute_error: 0.0783\n",
      "Epoch 11/50\n",
      "15000/15000 [==============================] - 5s 319us/step - loss: 0.0057 - mean_absolute_error: 0.0536 - val_loss: 0.0121 - val_mean_absolute_error: 0.0762\n",
      "Epoch 12/50\n",
      "15000/15000 [==============================] - 5s 314us/step - loss: 0.0063 - mean_absolute_error: 0.0556 - val_loss: 0.0149 - val_mean_absolute_error: 0.0839\n",
      "Epoch 13/50\n",
      "15000/15000 [==============================] - 5s 320us/step - loss: 0.0082 - mean_absolute_error: 0.0625 - val_loss: 0.0128 - val_mean_absolute_error: 0.0790\n",
      "Epoch 14/50\n",
      "15000/15000 [==============================] - 5s 313us/step - loss: 0.0127 - mean_absolute_error: 0.0756 - val_loss: 0.0168 - val_mean_absolute_error: 0.0898\n",
      "Epoch 15/50\n",
      "15000/15000 [==============================] - 5s 318us/step - loss: 0.0134 - mean_absolute_error: 0.0766 - val_loss: 0.0162 - val_mean_absolute_error: 0.0891\n",
      "Epoch 16/50\n",
      "15000/15000 [==============================] - 5s 316us/step - loss: 0.0144 - mean_absolute_error: 0.0794 - val_loss: 0.0154 - val_mean_absolute_error: 0.0857\n",
      "Epoch 17/50\n",
      "15000/15000 [==============================] - 5s 320us/step - loss: 0.0144 - mean_absolute_error: 0.0781 - val_loss: 0.0222 - val_mean_absolute_error: 0.1007\n",
      "Epoch 18/50\n",
      "15000/15000 [==============================] - 5s 315us/step - loss: 0.0154 - mean_absolute_error: 0.0816 - val_loss: 0.0163 - val_mean_absolute_error: 0.0897\n",
      "Epoch 19/50\n",
      "15000/15000 [==============================] - 5s 317us/step - loss: 0.0159 - mean_absolute_error: 0.0819 - val_loss: 0.0185 - val_mean_absolute_error: 0.0936\n",
      "Epoch 20/50\n",
      "15000/15000 [==============================] - 5s 324us/step - loss: 0.0119 - mean_absolute_error: 0.0713 - val_loss: 0.0265 - val_mean_absolute_error: 0.1089\n",
      "Epoch 21/50\n",
      "15000/15000 [==============================] - 5s 319us/step - loss: 0.0099 - mean_absolute_error: 0.0646 - val_loss: 0.0186 - val_mean_absolute_error: 0.0930\n",
      "Epoch 22/50\n",
      "15000/15000 [==============================] - 5s 316us/step - loss: 0.0100 - mean_absolute_error: 0.0641 - val_loss: 0.0183 - val_mean_absolute_error: 0.0939\n",
      "Epoch 23/50\n",
      "15000/15000 [==============================] - 5s 315us/step - loss: 0.0102 - mean_absolute_error: 0.0648 - val_loss: 0.0184 - val_mean_absolute_error: 0.0918\n",
      "Epoch 24/50\n",
      "15000/15000 [==============================] - 5s 315us/step - loss: 0.0097 - mean_absolute_error: 0.0627 - val_loss: 0.0153 - val_mean_absolute_error: 0.0856\n",
      "Epoch 25/50\n",
      "15000/15000 [==============================] - 5s 314us/step - loss: 0.0090 - mean_absolute_error: 0.0607 - val_loss: 0.0155 - val_mean_absolute_error: 0.0853\n",
      "Epoch 26/50\n",
      "15000/15000 [==============================] - 5s 365us/step - loss: 0.0086 - mean_absolute_error: 0.0594 - val_loss: 0.0177 - val_mean_absolute_error: 0.0920\n",
      "Epoch 27/50\n",
      "15000/15000 [==============================] - 5s 317us/step - loss: 0.0087 - mean_absolute_error: 0.0595 - val_loss: 0.0192 - val_mean_absolute_error: 0.0946\n",
      "Epoch 28/50\n",
      "15000/15000 [==============================] - 5s 316us/step - loss: 0.0083 - mean_absolute_error: 0.0572 - val_loss: 0.0169 - val_mean_absolute_error: 0.0866\n",
      "Epoch 29/50\n",
      "15000/15000 [==============================] - 5s 316us/step - loss: 0.0072 - mean_absolute_error: 0.0538 - val_loss: 0.0186 - val_mean_absolute_error: 0.0913\n",
      "Epoch 30/50\n",
      "15000/15000 [==============================] - 5s 316us/step - loss: 0.0065 - mean_absolute_error: 0.0523 - val_loss: 0.0192 - val_mean_absolute_error: 0.0915\n",
      "Epoch 31/50\n",
      "15000/15000 [==============================] - 5s 312us/step - loss: 0.0067 - mean_absolute_error: 0.0521 - val_loss: 0.0192 - val_mean_absolute_error: 0.0920\n",
      "Epoch 32/50\n",
      "15000/15000 [==============================] - 5s 317us/step - loss: 0.0064 - mean_absolute_error: 0.0501 - val_loss: 0.0174 - val_mean_absolute_error: 0.0922\n",
      "Epoch 33/50\n",
      "15000/15000 [==============================] - 5s 313us/step - loss: 0.0067 - mean_absolute_error: 0.0523 - val_loss: 0.0224 - val_mean_absolute_error: 0.0978\n",
      "Epoch 34/50\n",
      "15000/15000 [==============================] - 5s 316us/step - loss: 0.0059 - mean_absolute_error: 0.0489 - val_loss: 0.0220 - val_mean_absolute_error: 0.0975\n",
      "Epoch 35/50\n",
      "15000/15000 [==============================] - 5s 314us/step - loss: 0.0059 - mean_absolute_error: 0.0490 - val_loss: 0.0170 - val_mean_absolute_error: 0.0878\n",
      "Epoch 36/50\n",
      "15000/15000 [==============================] - 5s 317us/step - loss: 0.0056 - mean_absolute_error: 0.0475 - val_loss: 0.0215 - val_mean_absolute_error: 0.0958\n",
      "Epoch 37/50\n",
      "15000/15000 [==============================] - 5s 343us/step - loss: 0.0050 - mean_absolute_error: 0.0457 - val_loss: 0.0225 - val_mean_absolute_error: 0.0979\n",
      "Epoch 38/50\n",
      "15000/15000 [==============================] - 5s 339us/step - loss: 0.0049 - mean_absolute_error: 0.0445 - val_loss: 0.0213 - val_mean_absolute_error: 0.0953\n",
      "Epoch 39/50\n",
      "15000/15000 [==============================] - 5s 357us/step - loss: 0.0051 - mean_absolute_error: 0.0458 - val_loss: 0.0207 - val_mean_absolute_error: 0.0957\n",
      "Epoch 40/50\n",
      "15000/15000 [==============================] - 5s 318us/step - loss: 0.0050 - mean_absolute_error: 0.0455 - val_loss: 0.0230 - val_mean_absolute_error: 0.0982\n",
      "Epoch 41/50\n",
      "15000/15000 [==============================] - 6s 392us/step - loss: 0.0045 - mean_absolute_error: 0.0431 - val_loss: 0.0292 - val_mean_absolute_error: 0.1090\n",
      "Epoch 42/50\n",
      "15000/15000 [==============================] - 5s 366us/step - loss: 0.0040 - mean_absolute_error: 0.0405 - val_loss: 0.0210 - val_mean_absolute_error: 0.0959\n",
      "Epoch 43/50\n",
      "15000/15000 [==============================] - 6s 374us/step - loss: 0.0040 - mean_absolute_error: 0.0409 - val_loss: 0.0257 - val_mean_absolute_error: 0.1030\n",
      "Epoch 44/50\n",
      "15000/15000 [==============================] - 6s 417us/step - loss: 0.0042 - mean_absolute_error: 0.0412 - val_loss: 0.0259 - val_mean_absolute_error: 0.1043\n",
      "Epoch 45/50\n",
      "15000/15000 [==============================] - 6s 374us/step - loss: 0.0043 - mean_absolute_error: 0.0425 - val_loss: 0.0211 - val_mean_absolute_error: 0.0954\n",
      "Epoch 46/50\n",
      "15000/15000 [==============================] - 5s 328us/step - loss: 0.0041 - mean_absolute_error: 0.0403 - val_loss: 0.0241 - val_mean_absolute_error: 0.1002\n",
      "Epoch 47/50\n",
      "15000/15000 [==============================] - 5s 316us/step - loss: 0.0039 - mean_absolute_error: 0.0399 - val_loss: 0.0260 - val_mean_absolute_error: 0.1033\n",
      "Epoch 48/50\n",
      "15000/15000 [==============================] - 5s 318us/step - loss: 0.0033 - mean_absolute_error: 0.0363 - val_loss: 0.0257 - val_mean_absolute_error: 0.1037\n"
     ]
    },
    {
     "name": "stdout",
     "output_type": "stream",
     "text": [
      "Epoch 49/50\n",
      "15000/15000 [==============================] - 5s 317us/step - loss: 0.0032 - mean_absolute_error: 0.0358 - val_loss: 0.0239 - val_mean_absolute_error: 0.1020\n",
      "Epoch 50/50\n",
      "15000/15000 [==============================] - 5s 320us/step - loss: 0.0032 - mean_absolute_error: 0.0355 - val_loss: 0.0241 - val_mean_absolute_error: 0.1006\n"
     ]
    },
    {
     "data": {
      "text/plain": [
       "<tensorflow.python.keras.callbacks.History at 0x7f0fe37745c0>"
      ]
     },
     "execution_count": 7,
     "metadata": {},
     "output_type": "execute_result"
    }
   ],
   "source": [
    "modelH.fit(train_data, labels, epochs=50, validation_data=(test_data, test_labels))"
   ]
  },
  {
   "cell_type": "markdown",
   "metadata": {},
   "source": [
    "## The comparison for fixed sample size\n",
    "\n",
    "Now I want to test the networks performance on samples from a Frechet(2) and a Cauchy distribution, where the true extreme value index is 1/2 and 1 respectively. Both distibutions are commonly usd examples in extreme value analsis."
   ]
  },
  {
   "cell_type": "code",
   "execution_count": 17,
   "metadata": {},
   "outputs": [],
   "source": [
    "M=500\n",
    "## Frechet(2)\n",
    "test_dataFl=np.zeros((M,N))\n",
    "test_dataF=np.zeros((M,N))\n",
    "test_labelsF=np.zeros(M)\n",
    "    \n",
    "for i in range(M):\n",
    "    gamma=1/2\n",
    "    X=stat.invweibull.rvs(c=1/gamma, size=N)\n",
    "    test_dataFl[i,]=np.log(X)\n",
    "    test_dataF[i,]=X\n",
    "    test_labelsF[i]=gamma\n",
    "    \n",
    "    \n",
    "## Cauchy\n",
    "test_dataCl=np.zeros((M,N))\n",
    "test_dataC=np.zeros((M,N))\n",
    "test_labelsC=np.zeros(M)\n",
    "\n",
    "for i in range(M):\n",
    "    X=np.random.standard_cauchy(size=N)\n",
    "    test_dataCl[i,]=np.log(abs(X))\n",
    "    test_dataC[i,]=X\n",
    "    test_labelsC[i]=1"
   ]
  },
  {
   "cell_type": "markdown",
   "metadata": {},
   "source": [
    "I want to compare it to a more \"traditional\" statistical procedure and therefore I implemented the method K_star, which I developed for threshold selection and adaptive estimation of the extreme value index using the Hill estimator."
   ]
  },
  {
   "cell_type": "code",
   "execution_count": 18,
   "metadata": {},
   "outputs": [],
   "source": [
    "def Hill(X,k):\n",
    "    N=len(X)\n",
    "    X=np.sort(X)\n",
    "    temp=np.log(X[range(N-k-1,N)])-np.log(X[N-k-1])\n",
    "    return(np.sum(temp)/(k+1))\n",
    "\n",
    "def de_Vries(X,k):\n",
    "    N=len(X)\n",
    "    X=np.sort(X)\n",
    "    temp=np.log(X[range(N-k-1,N)])-np.log(X[N-k-1])\n",
    "    temp2=np.power(temp,2)\n",
    "    return(np.sum(temp2)/(2*np.sum(temp)))"
   ]
  },
  {
   "cell_type": "code",
   "execution_count": 19,
   "metadata": {},
   "outputs": [],
   "source": [
    "def K_star(X):\n",
    "    n_p=sum(1 for i in range(len(X)) if X[i]>0)\n",
    "    K=range(4,n_p)\n",
    "    H=np.zeros(len(K))\n",
    "    V=np.zeros(len(K))\n",
    "    Error=np.zeros(len(K))\n",
    "    for k in K:\n",
    "        H[k-K[0]]=Hill(X,k)\n",
    "        V[k-K[0]]=de_Vries(X,k)\n",
    "        Hk=H[range(k-K[0]+1)]\n",
    "        Vk=V[range(k-K[0]+1)]\n",
    "        upHk=(np.cumsum(Hk[::-1]) / range(1, len(Hk)+1))[::-1]\n",
    "        Error[k-K[0]]=np.mean(np.power(Hk-Vk-upHk+upHk[0],2))\n",
    "    Stable=np.zeros(len(K))\n",
    "    for k in K:\n",
    "        Stable[k-K[0]]=np.mean(np.power( (Error[k-K[0]]-Error[range(max(0,k-K[0]-2),min(len(K)-1,k-K[0]+2))]) ,2))\n",
    "        \n",
    "    kstar=K[np.argmin(Stable)]\n",
    "    upHk=(np.cumsum(H[kstar-K[0]::-1]) / range(1,kstar-K[0]+2))[::-1]\n",
    "    MSE=np.zeros(len(range(4,kstar+1)))\n",
    "    for k in range(4,kstar+1):\n",
    "        MSE[k-4]=(2*V[kstar-K[0]]-H[kstar-K[0]])**2/k+4*(upHk[k-4]-upHk[0])**2\n",
    "        \n",
    "    return K[np.argmin(MSE)]"
   ]
  },
  {
   "cell_type": "code",
   "execution_count": 20,
   "metadata": {},
   "outputs": [],
   "source": [
    "Gamma_hatF=np.zeros(500)\n",
    "\n",
    "for i in range(500):\n",
    "    X=test_dataF[i,]\n",
    "    k1=K_star(X)\n",
    "    Gamma_hatF[i]=Hill(X,k1)\n",
    "    \n",
    "    \n",
    "Gamma_hatC=np.zeros(500)\n",
    "\n",
    "for i in range(500):\n",
    "    X=test_dataC[i,]\n",
    "    k1=K_star(X)\n",
    "    Gamma_hatC[i]=Hill(X,k1)"
   ]
  },
  {
   "cell_type": "markdown",
   "metadata": {},
   "source": [
    "Now we can compare the performance of the method K_star to the deep neural network (DNN) in terms of the mean square error (MSE) and the mean absolute error (MAE). We obseve that the DNN performs better in both examples. Although our method K_star is maybe not the optimal thing you can do, it performs quite comparable to other methods. Thus, it offers a realistic evaluation of the estimation performance of the neural network."
   ]
  },
  {
   "cell_type": "code",
   "execution_count": 21,
   "metadata": {},
   "outputs": [
    {
     "name": "stdout",
     "output_type": "stream",
     "text": [
      "K_star - Frechet - MSE: 0.00486883484553 , MAE: 0.0534270257877\n",
      "500/500 [==============================] - 0s 61us/step\n",
      "DNN - Frechet - MSE: 0.00137717017718 , MAE: 0.0299174061716\n"
     ]
    },
    {
     "data": {
      "image/png": "[encoded data removed]",
      "text/plain": [
       "<Figure size 432x288 with 1 Axes>"
      ]
     },
     "metadata": {},
     "output_type": "display_data"
    }
   ],
   "source": [
    "print(\"K_star - Frechet - MSE:\", np.mean(np.power((Gamma_hatF-test_labelsF),2)),\", MAE:\", np.mean(np.abs((Gamma_hatF-test_labelsF))))\n",
    "EvF=modelH.evaluate(test_dataFl, test_labelsF)\n",
    "print(\"DNN - Frechet - MSE:\", EvF[0], \", MAE:\", EvF[1])\n",
    "\n",
    "plt.hist(Gamma_hatF, bins=20, label=\"K_star\")\n",
    "plt.hist(modelH.predict(test_dataFl), bins=20, label=\"DNN\")\n",
    "legend = plt.legend()\n",
    "plt.show()"
   ]
  },
  {
   "cell_type": "code",
   "execution_count": 22,
   "metadata": {},
   "outputs": [
    {
     "name": "stdout",
     "output_type": "stream",
     "text": [
      "K_star - Cauchy - MSE: 0.0361568715126 , MAE: 0.149241513737\n",
      "500/500 [==============================] - 0s 64us/step\n",
      "DNN - Cauchy - MSE: 0.0125199482366 , MAE: 0.0971328452826\n"
     ]
    },
    {
     "data": {
      "image/png": "[encoded data removed]",
      "text/plain": [
       "<Figure size 432x288 with 1 Axes>"
      ]
     },
     "metadata": {},
     "output_type": "display_data"
    }
   ],
   "source": [
    "print(\"K_star - Cauchy - MSE:\", np.mean(np.power((Gamma_hatC-test_labelsC),2)),\", MAE:\", np.mean(np.abs((Gamma_hatC-test_labelsC))))\n",
    "EvC=modelH.evaluate(test_dataCl, test_labelsC)\n",
    "print(\"DNN - Cauchy - MSE:\", EvC[0], \", MAE:\", EvC[1])\n",
    "\n",
    "plt.hist(Gamma_hatC, bins=20, label=\"K_star\")\n",
    "plt.hist(modelH.predict(test_dataCl), bins=20, label=\"DNN\")\n",
    "legend = plt.legend()\n",
    "plt.show()"
   ]
  },
  {
   "cell_type": "markdown",
   "metadata": {},
   "source": [
    "## Considering different sample sizes\n",
    "\n",
    "A major drawback of such a network is that the architecture determines the number of observations, which can be processed. Thus, you would either train and possibly model an new network for each sample sizes your are confronted with or you rather consider drawing from you data with replacement to obtain samples of the same size. The second approach makes sense, if you have a various samples which do not very drastically. <br>\n",
    "\n",
    "To evaluate this idea the test data gereated in the following has different sample sizes, but in constrast to the K_star method the DNN is applied to resampled versions of size N."
   ]
  },
  {
   "cell_type": "code",
   "execution_count": 46,
   "metadata": {},
   "outputs": [],
   "source": [
    "M=500\n",
    "dif=200\n",
    "## Frechet(2)\n",
    "test_dataFlv=np.zeros((M,N))\n",
    "test_dataFv=np.zeros((M,N+dif))\n",
    "test_labelsFv=np.zeros(M)\n",
    "    \n",
    "for i in range(M):\n",
    "    gamma=1/2\n",
    "    Nr=np.random.randint(N-dif,N+dif)\n",
    "    Xr=stat.invweibull.rvs(c=1/gamma, size=Nr)\n",
    "    if Nr>=N:\n",
    "        X=np.asarray(random.sample(list(Xr),N))\n",
    "    else:\n",
    "        X=np.zeros(N)\n",
    "        for j in range(N):\n",
    "            X[j]=random.choice(Xr)\n",
    "    test_dataFlv[i,]=np.log(X)\n",
    "    test_dataFv[i,:len(Xr)]=Xr\n",
    "    test_labelsFv[i]=gamma\n",
    "    \n",
    "    \n",
    "## Cauchy\n",
    "test_dataClv=np.zeros((M,N))\n",
    "test_dataCv=np.zeros((M,N+dif))\n",
    "test_labelsCv=np.zeros(M)\n",
    "\n",
    "for i in range(M):\n",
    "    Nr=np.random.randint(N-dif,N+dif)\n",
    "    Xr=np.random.standard_cauchy(size=Nr)\n",
    "    if Nr>=N:\n",
    "        X=np.asarray(random.sample(list(Xr),N))\n",
    "    else:\n",
    "        X=np.zeros(N)\n",
    "        for j in range(N):\n",
    "            X[j]=random.choice(Xr)\n",
    "    test_dataClv[i,]=np.log(abs(X))\n",
    "    test_dataCv[i,:len(Xr)]=Xr\n",
    "    test_labelsCv[i]=1"
   ]
  },
  {
   "cell_type": "code",
   "execution_count": 47,
   "metadata": {},
   "outputs": [],
   "source": [
    "Gamma_hatFv=np.zeros(500)\n",
    "\n",
    "for i in range(500):\n",
    "    X=test_dataFv[i,][test_dataFv[i,]>0]\n",
    "    k1=K_star(X)\n",
    "    Gamma_hatFv[i]=Hill(X,k1)\n",
    "    \n",
    "    \n",
    "Gamma_hatCv=np.zeros(500)\n",
    "\n",
    "for i in range(500):\n",
    "    X=test_dataCv[i,][test_dataCv[i,]>0]\n",
    "    k1=K_star(X)\n",
    "    Gamma_hatCv[i]=Hill(X,k1)"
   ]
  },
  {
   "cell_type": "code",
   "execution_count": 48,
   "metadata": {},
   "outputs": [
    {
     "name": "stdout",
     "output_type": "stream",
     "text": [
      "K_star - Frechet - MSE: 0.00523065245957 , MAE: 0.0558326050504\n",
      "500/500 [==============================] - 0s 60us/step\n",
      "DNN - Frechet - MSE: 0.00190217754804 , MAE: 0.03346574229\n"
     ]
    },
    {
     "data": {
      "image/png": "[encoded data removed]",
      "text/plain": [
       "<Figure size 432x288 with 1 Axes>"
      ]
     },
     "metadata": {},
     "output_type": "display_data"
    }
   ],
   "source": [
    "print(\"K_star - Frechet - MSE:\", np.mean(np.power((Gamma_hatFv-test_labelsFv),2)),\", MAE:\", np.mean(np.abs((Gamma_hatFv-test_labelsFv))))\n",
    "EvF=modelH.evaluate(test_dataFlv, test_labelsFv)\n",
    "print(\"DNN - Frechet - MSE:\", EvF[0], \", MAE:\", EvF[1])\n",
    "\n",
    "plt.hist(Gamma_hatFv, bins=20, label=\"K_star\")\n",
    "plt.hist(modelH.predict(test_dataFlv), bins=20, label=\"DNN\")\n",
    "legend = plt.legend()\n",
    "plt.show()"
   ]
  },
  {
   "cell_type": "code",
   "execution_count": 49,
   "metadata": {},
   "outputs": [
    {
     "name": "stdout",
     "output_type": "stream",
     "text": [
      "K_star - Cauchy - MSE: 0.0366999681922 , MAE: 0.14403536628\n",
      "500/500 [==============================] - 0s 71us/step\n",
      "DNN - Cauchy - MSE: 0.0132186456621 , MAE: 0.0965670490861\n"
     ]
    },
    {
     "data": {
      "image/png": "[encoded data removed]",
      "text/plain": [
       "<Figure size 432x288 with 1 Axes>"
      ]
     },
     "metadata": {},
     "output_type": "display_data"
    }
   ],
   "source": [
    "print(\"K_star - Cauchy - MSE:\", np.mean(np.power((Gamma_hatCv-test_labelsCv),2)),\", MAE:\", np.mean(np.abs((Gamma_hatCv-test_labelsCv))))\n",
    "EvC=modelH.evaluate(test_dataClv, test_labelsCv)\n",
    "print(\"DNN - Cauchy - MSE:\", EvC[0], \", MAE:\", EvC[1])\n",
    "\n",
    "plt.hist(Gamma_hatCv, bins=20, label=\"K_star\")\n",
    "plt.hist(modelH.predict(test_dataClv), bins=20, label=\"DNN\")\n",
    "legend = plt.legend()\n",
    "plt.show()"
   ]
  },
  {
   "cell_type": "markdown",
   "metadata": {},
   "source": [
    "Surprisingly the DNN does not suffer much from the resampling scheme and still peforms better."
   ]
  },
  {
   "cell_type": "markdown",
   "metadata": {},
   "source": [
    "## Conclusion\n",
    "\n",
    "Training neural networks in order to learn the extreme value index without the necessary selection of a threshold or sample fraction seems worth further investigation. It would be very interesenting to get insight on the structure of the network and understand how it larns to estimate this parameter."
   ]
  }
 ],
 "metadata": {
  "kernelspec": {
   "display_name": "Python 3",
   "language": "python",
   "name": "python3"
  },
  "language_info": {
   "codemirror_mode": {
    "name": "ipython",
    "version": 3
   },
   "file_extension": ".py",
   "mimetype": "text/x-python",
   "name": "python",
   "nbconvert_exporter": "python",
   "pygments_lexer": "ipython3",
   "version": "3.6.6"
  }
 },
 "nbformat": 4,
 "nbformat_minor": 2
}
