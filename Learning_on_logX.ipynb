{
 "cells": [
  {
   "cell_type": "markdown",
   "metadata": {},
   "source": [
    "# Deep Learning of the Extreme Value Index\n",
    "\n",
    "Estimating the extreme value index, which describes the tail behavior of Pareto-type distributions, is a complex task and estimators usually depend on the choice of a threshold, above which the data can be used for statistical inference on extreme events.<br> \n",
    "More specifically, in extreme value analysis one considers observations from a distribtuion function $F$, which can be approximated by a Pareto distribution in the tail. This means that for $x$ large enough, $$ 1-F(x)\\approx x^{-1/\\gamma}, $$ for $\\gamma>0$. The extreme value index $\\gamma$ describes how likely extremely high observations $x$ are. The higher $\\gamma$ the more likely are extreme outliers. <br>\n",
    "\n",
    "The question I want to discuss here is: Can I train a network on random samples to determine the extreme value index without the selection of a threshod?"
   ]
  },
  {
   "cell_type": "code",
   "execution_count": 47,
   "metadata": {},
   "outputs": [],
   "source": [
    "import tensorflow as tf\n",
    "import numpy as np\n",
    "import matplotlib.pyplot as plt\n",
    "import scipy.stats as stat\n",
    "import random\n",
    "\n",
    "np.random.seed(42)\n",
    "tf.set_random_seed(42)"
   ]
  },
  {
   "cell_type": "markdown",
   "metadata": {},
   "source": [
    "In the following the training data is generated and the labels contain the value of the corresponding extreme value index $\\gamma$. For the network to learn well it is very important to obtain training samples, which represent a broad class of distributions. <br>\n",
    "Since I am working on samples from heavy-tailed distributions, which can include extremely high values, I can not use the samples directly for training the network. Instead of the raw obervations I look at their logarithm. This trick leads to a more reasonable range of observed values and is also a natural thing to do in extreme value statistics, as it leads to an exponential approximation of the peak-over-threshold approach instead of a pareto approximation."
   ]
  },
  {
   "cell_type": "code",
   "execution_count": 48,
   "metadata": {},
   "outputs": [],
   "source": [
    "N=500  # sample size\n",
    "M=5000 # number of samples\n",
    "\n",
    "train_data=np.zeros((3*M,N))\n",
    "labels=np.zeros(3*M)\n",
    "\n",
    "# generate M samples following a t-distribution with a random degree of freedom between 1 and 12\n",
    "for i in range(M):\n",
    "    degree=np.random.randint(1,12)\n",
    "    X=np.random.standard_t(df=degree, size=N)\n",
    "    train_data[i,]=np.log(abs(X))\n",
    "    labels[i]=1./degree\n",
    "\n",
    "# generate M samples following a Frechet distribution with random extreme value index between 0 and 3.\n",
    "for i in range(M):\n",
    "    gamma=np.random.uniform(low=0, high=3)\n",
    "    X=stat.invweibull.rvs(c=1/gamma, size=N)\n",
    "    train_data[M+i,]=np.log(X)\n",
    "    labels[M+i]=gamma\n",
    "\n",
    "# generate M samples following a Burr distribution with random extreme value index between 0 and 3.\n",
    "for i in range(M):\n",
    "    gamma=np.random.uniform(low=0, high=3)\n",
    "    X=np.random.uniform(size=N)\n",
    "    X=np.power((1/(1-X) -1), gamma)\n",
    "    train_data[2*M+i,]=np.log(X)\n",
    "    labels[2*M+i]=gamma\n",
    "    "
   ]
  },
  {
   "cell_type": "markdown",
   "metadata": {},
   "source": [
    "## The network architecture\n",
    "\n",
    "In the case considered here, where the input does not contain structral properties, a useful network is a fully connnected sequential model."
   ]
  },
  {
   "cell_type": "code",
   "execution_count": 49,
   "metadata": {},
   "outputs": [],
   "source": [
    "modelH=tf.keras.models.Sequential()\n",
    "modelH.add(tf.keras.layers.Dense(N, input_shape=(N,) , activation='relu', use_bias=True))\n",
    "modelH.add(tf.keras.layers.Dense(2*N, activation='relu', use_bias=True ))\n",
    "modelH.add(tf.keras.layers.Dense(N, activation='relu', use_bias=True ))\n",
    "modelH.add(tf.keras.layers.Dense(1, use_bias=True))\n",
    "\n",
    "modelH.compile(optimizer='adam', loss='mse', metrics=[\"mae\"])\n",
    "#RMSprop each model varies a lot\n",
    "#SGD leads  to nan\n",
    "#with Adam the loss can increase sometimes"
   ]
  },
  {
   "cell_type": "markdown",
   "metadata": {},
   "source": [
    "Just a short check, if the initialized function values are not too far away from the true labels. Starting values that are by orders of magnitude higher or smaller than the true label values would slow down the training speed."
   ]
  },
  {
   "cell_type": "code",
   "execution_count": 50,
   "metadata": {},
   "outputs": [
    {
     "data": {
      "text/plain": [
       "array([[ 0.43271172],\n",
       "       [ 0.43603328],\n",
       "       [ 0.73818302],\n",
       "       ..., \n",
       "       [ 1.82848668],\n",
       "       [-0.00548556],\n",
       "       [ 0.00374517]], dtype=float32)"
      ]
     },
     "execution_count": 50,
     "metadata": {},
     "output_type": "execute_result"
    }
   ],
   "source": [
    "modelH.predict(train_data)"
   ]
  },
  {
   "cell_type": "code",
   "execution_count": 51,
   "metadata": {},
   "outputs": [],
   "source": [
    "test_data=np.zeros((3*M,N))\n",
    "test_labels=np.zeros(3*M)\n",
    "\n",
    "for i in range(M):\n",
    "    degree=np.random.randint(1,12)\n",
    "    X=np.random.standard_t(df=degree, size=N)\n",
    "    test_data[i,]=np.log(abs(X))\n",
    "    test_labels[i]=1./degree\n",
    "    \n",
    "for i in range(M):\n",
    "    gamma=np.random.uniform(low=0, high=3)\n",
    "    X=stat.invweibull.rvs(c=1/gamma, size=N)\n",
    "    test_data[M+i,]=np.log(X)\n",
    "    test_labels[M+i]=gamma\n",
    "\n",
    "for i in range(M):\n",
    "    gamma=np.random.uniform(low=0, high=3)\n",
    "    X=np.random.uniform(size=N)\n",
    "    X=np.power((1/(1-X) -1), gamma)\n",
    "    test_data[2*M+i,]=np.log(X)\n",
    "    test_labels[2*M+i]=gamma\n",
    "    "
   ]
  },
  {
   "cell_type": "code",
   "execution_count": 52,
   "metadata": {},
   "outputs": [
    {
     "name": "stdout",
     "output_type": "stream",
     "text": [
      "Train on 15000 samples, validate on 15000 samples\n",
      "Epoch 1/50\n",
      "15000/15000 [==============================] - 7s 449us/step - loss: 0.3841 - mean_absolute_error: 0.1917 - val_loss: 0.0186 - val_mean_absolute_error: 0.0955\n",
      "Epoch 2/50\n",
      "15000/15000 [==============================] - 5s 366us/step - loss: 0.0131 - mean_absolute_error: 0.0811 - val_loss: 0.0152 - val_mean_absolute_error: 0.0871\n",
      "Epoch 3/50\n",
      "15000/15000 [==============================] - 6s 409us/step - loss: 0.0077 - mean_absolute_error: 0.0651 - val_loss: 0.0167 - val_mean_absolute_error: 0.0904\n",
      "Epoch 4/50\n",
      "15000/15000 [==============================] - 6s 417us/step - loss: 0.0056 - mean_absolute_error: 0.0563 - val_loss: 0.0141 - val_mean_absolute_error: 0.0826\n",
      "Epoch 5/50\n",
      "15000/15000 [==============================] - 5s 333us/step - loss: 0.0048 - mean_absolute_error: 0.0520 - val_loss: 0.0162 - val_mean_absolute_error: 0.0879\n",
      "Epoch 6/50\n",
      "15000/15000 [==============================] - 5s 341us/step - loss: 0.0053 - mean_absolute_error: 0.0534 - val_loss: 0.0141 - val_mean_absolute_error: 0.0837\n",
      "Epoch 7/50\n",
      "15000/15000 [==============================] - 5s 321us/step - loss: 0.0067 - mean_absolute_error: 0.0588 - val_loss: 0.0139 - val_mean_absolute_error: 0.0830\n",
      "Epoch 8/50\n",
      "15000/15000 [==============================] - 5s 319us/step - loss: 0.0069 - mean_absolute_error: 0.0590 - val_loss: 0.0130 - val_mean_absolute_error: 0.0804\n",
      "Epoch 9/50\n",
      "15000/15000 [==============================] - 5s 335us/step - loss: 0.0066 - mean_absolute_error: 0.0572 - val_loss: 0.0137 - val_mean_absolute_error: 0.0826\n",
      "Epoch 10/50\n",
      "15000/15000 [==============================] - 5s 327us/step - loss: 0.0064 - mean_absolute_error: 0.0563 - val_loss: 0.0136 - val_mean_absolute_error: 0.0800\n",
      "Epoch 11/50\n",
      "15000/15000 [==============================] - 5s 323us/step - loss: 0.0068 - mean_absolute_error: 0.0571 - val_loss: 0.0160 - val_mean_absolute_error: 0.0885\n",
      "Epoch 12/50\n",
      "15000/15000 [==============================] - 5s 324us/step - loss: 0.0086 - mean_absolute_error: 0.0636 - val_loss: 0.0144 - val_mean_absolute_error: 0.0833\n",
      "Epoch 13/50\n",
      "15000/15000 [==============================] - 5s 336us/step - loss: 0.0101 - mean_absolute_error: 0.0678 - val_loss: 0.0157 - val_mean_absolute_error: 0.0867\n",
      "Epoch 14/50\n",
      "15000/15000 [==============================] - 5s 322us/step - loss: 0.0114 - mean_absolute_error: 0.0716 - val_loss: 0.0167 - val_mean_absolute_error: 0.0904\n",
      "Epoch 15/50\n",
      "15000/15000 [==============================] - 5s 329us/step - loss: 0.0143 - mean_absolute_error: 0.0794 - val_loss: 0.0175 - val_mean_absolute_error: 0.0933\n",
      "Epoch 16/50\n",
      "15000/15000 [==============================] - 5s 329us/step - loss: 0.0149 - mean_absolute_error: 0.0811 - val_loss: 0.0169 - val_mean_absolute_error: 0.0915\n",
      "Epoch 17/50\n",
      "15000/15000 [==============================] - 5s 329us/step - loss: 0.0150 - mean_absolute_error: 0.0809 - val_loss: 0.0162 - val_mean_absolute_error: 0.0871\n",
      "Epoch 18/50\n",
      "15000/15000 [==============================] - 5s 325us/step - loss: 0.0146 - mean_absolute_error: 0.0778 - val_loss: 0.0273 - val_mean_absolute_error: 0.1252\n",
      "Epoch 19/50\n",
      "15000/15000 [==============================] - 5s 329us/step - loss: 0.0117 - mean_absolute_error: 0.0700 - val_loss: 0.0171 - val_mean_absolute_error: 0.0941\n",
      "Epoch 20/50\n",
      "15000/15000 [==============================] - 5s 347us/step - loss: 0.0096 - mean_absolute_error: 0.0643 - val_loss: 0.0192 - val_mean_absolute_error: 0.0927\n",
      "Epoch 21/50\n",
      "15000/15000 [==============================] - 5s 326us/step - loss: 0.0090 - mean_absolute_error: 0.0622 - val_loss: 0.0145 - val_mean_absolute_error: 0.0836\n",
      "Epoch 22/50\n",
      "15000/15000 [==============================] - 5s 332us/step - loss: 0.0097 - mean_absolute_error: 0.0631 - val_loss: 0.0172 - val_mean_absolute_error: 0.0902\n",
      "Epoch 23/50\n",
      "15000/15000 [==============================] - 5s 321us/step - loss: 0.0107 - mean_absolute_error: 0.0669 - val_loss: 0.0215 - val_mean_absolute_error: 0.0995\n",
      "Epoch 24/50\n",
      "15000/15000 [==============================] - 5s 320us/step - loss: 0.0103 - mean_absolute_error: 0.0651 - val_loss: 0.0164 - val_mean_absolute_error: 0.0911\n",
      "Epoch 25/50\n",
      "15000/15000 [==============================] - 5s 327us/step - loss: 0.0095 - mean_absolute_error: 0.0623 - val_loss: 0.0171 - val_mean_absolute_error: 0.0877\n",
      "Epoch 26/50\n",
      "15000/15000 [==============================] - 5s 326us/step - loss: 0.0098 - mean_absolute_error: 0.0636 - val_loss: 0.0254 - val_mean_absolute_error: 0.1090\n",
      "Epoch 27/50\n",
      "15000/15000 [==============================] - 5s 325us/step - loss: 0.0080 - mean_absolute_error: 0.0564 - val_loss: 0.0185 - val_mean_absolute_error: 0.0944\n",
      "Epoch 28/50\n",
      "15000/15000 [==============================] - 5s 327us/step - loss: 0.0067 - mean_absolute_error: 0.0515 - val_loss: 0.0161 - val_mean_absolute_error: 0.0860\n",
      "Epoch 29/50\n",
      "15000/15000 [==============================] - 5s 327us/step - loss: 0.0057 - mean_absolute_error: 0.0486 - val_loss: 0.0149 - val_mean_absolute_error: 0.0822\n",
      "Epoch 30/50\n",
      "15000/15000 [==============================] - 5s 328us/step - loss: 0.0060 - mean_absolute_error: 0.0496 - val_loss: 0.0222 - val_mean_absolute_error: 0.0982\n",
      "Epoch 31/50\n",
      "15000/15000 [==============================] - 5s 323us/step - loss: 0.0071 - mean_absolute_error: 0.0542 - val_loss: 0.0198 - val_mean_absolute_error: 0.0947\n",
      "Epoch 32/50\n",
      "15000/15000 [==============================] - 5s 330us/step - loss: 0.0070 - mean_absolute_error: 0.0533 - val_loss: 0.0227 - val_mean_absolute_error: 0.0986\n",
      "Epoch 33/50\n",
      "15000/15000 [==============================] - 5s 333us/step - loss: 0.0057 - mean_absolute_error: 0.0491 - val_loss: 0.0217 - val_mean_absolute_error: 0.0991\n",
      "Epoch 34/50\n",
      "15000/15000 [==============================] - 5s 330us/step - loss: 0.0050 - mean_absolute_error: 0.0461 - val_loss: 0.0231 - val_mean_absolute_error: 0.1006\n",
      "Epoch 35/50\n",
      "15000/15000 [==============================] - 5s 323us/step - loss: 0.0049 - mean_absolute_error: 0.0455 - val_loss: 0.0242 - val_mean_absolute_error: 0.1025\n",
      "Epoch 36/50\n",
      "15000/15000 [==============================] - 5s 321us/step - loss: 0.0051 - mean_absolute_error: 0.0460 - val_loss: 0.0243 - val_mean_absolute_error: 0.1034\n",
      "Epoch 37/50\n",
      "15000/15000 [==============================] - 5s 340us/step - loss: 0.0051 - mean_absolute_error: 0.0458 - val_loss: 0.0218 - val_mean_absolute_error: 0.0965\n",
      "Epoch 38/50\n",
      "15000/15000 [==============================] - 5s 325us/step - loss: 0.0058 - mean_absolute_error: 0.0481 - val_loss: 0.0242 - val_mean_absolute_error: 0.1015\n",
      "Epoch 39/50\n",
      "15000/15000 [==============================] - 5s 329us/step - loss: 0.0055 - mean_absolute_error: 0.0466 - val_loss: 0.0203 - val_mean_absolute_error: 0.0940\n",
      "Epoch 40/50\n",
      "15000/15000 [==============================] - 5s 326us/step - loss: 0.0042 - mean_absolute_error: 0.0415 - val_loss: 0.0243 - val_mean_absolute_error: 0.1014\n",
      "Epoch 41/50\n",
      "15000/15000 [==============================] - 5s 332us/step - loss: 0.0036 - mean_absolute_error: 0.0388 - val_loss: 0.0211 - val_mean_absolute_error: 0.0958\n",
      "Epoch 42/50\n",
      "15000/15000 [==============================] - 5s 319us/step - loss: 0.0034 - mean_absolute_error: 0.0373 - val_loss: 0.0223 - val_mean_absolute_error: 0.0978\n",
      "Epoch 43/50\n",
      "15000/15000 [==============================] - 5s 325us/step - loss: 0.0036 - mean_absolute_error: 0.0386 - val_loss: 0.0251 - val_mean_absolute_error: 0.1035\n",
      "Epoch 44/50\n",
      "15000/15000 [==============================] - 5s 322us/step - loss: 0.0041 - mean_absolute_error: 0.0410 - val_loss: 0.0265 - val_mean_absolute_error: 0.1079\n",
      "Epoch 45/50\n",
      "15000/15000 [==============================] - 5s 324us/step - loss: 0.0044 - mean_absolute_error: 0.0425 - val_loss: 0.0259 - val_mean_absolute_error: 0.1048\n",
      "Epoch 46/50\n",
      "15000/15000 [==============================] - 5s 321us/step - loss: 0.0041 - mean_absolute_error: 0.0406 - val_loss: 0.0304 - val_mean_absolute_error: 0.1134\n",
      "Epoch 47/50\n",
      "15000/15000 [==============================] - 5s 332us/step - loss: 0.0035 - mean_absolute_error: 0.0379 - val_loss: 0.0285 - val_mean_absolute_error: 0.1076\n",
      "Epoch 48/50\n",
      "15000/15000 [==============================] - 5s 325us/step - loss: 0.0029 - mean_absolute_error: 0.0350 - val_loss: 0.0239 - val_mean_absolute_error: 0.1001\n"
     ]
    },
    {
     "name": "stdout",
     "output_type": "stream",
     "text": [
      "Epoch 49/50\n",
      "15000/15000 [==============================] - 5s 324us/step - loss: 0.0028 - mean_absolute_error: 0.0343 - val_loss: 0.0242 - val_mean_absolute_error: 0.1014\n",
      "Epoch 50/50\n",
      "15000/15000 [==============================] - 5s 323us/step - loss: 0.0031 - mean_absolute_error: 0.0362 - val_loss: 0.0243 - val_mean_absolute_error: 0.1007\n"
     ]
    },
    {
     "data": {
      "text/plain": [
       "<tensorflow.python.keras.callbacks.History at 0x7fbf5ecbbc50>"
      ]
     },
     "execution_count": 52,
     "metadata": {},
     "output_type": "execute_result"
    }
   ],
   "source": [
    "modelH.fit(train_data, labels, epochs=50, validation_data=(test_data, test_labels))"
   ]
  },
  {
   "cell_type": "markdown",
   "metadata": {},
   "source": [
    "## Comparison for fixed sample size\n",
    "\n",
    "Now I want to test the networks performance on samples from a Fréchet(2) and a Cauchy distribution, where the true extreme value index is 1/2 and 1 respectively. Both distibutions are commonly usd examples in extreme value analsis."
   ]
  },
  {
   "cell_type": "code",
   "execution_count": 53,
   "metadata": {},
   "outputs": [],
   "source": [
    "M=500 # number of samples\n",
    "\n",
    "## Fréchet(2)\n",
    "test_dataFl=np.zeros((M,N))\n",
    "test_dataF=np.zeros((M,N))\n",
    "test_labelsF=np.zeros(M)\n",
    "    \n",
    "for i in range(M):\n",
    "    gamma=1/2\n",
    "    X=stat.invweibull.rvs(c=1/gamma, size=N)\n",
    "    test_dataFl[i,]=np.log(X)\n",
    "    test_dataF[i,]=X\n",
    "    test_labelsF[i]=gamma\n",
    "    \n",
    "    \n",
    "## Cauchy\n",
    "test_dataCl=np.zeros((M,N))\n",
    "test_dataC=np.zeros((M,N))\n",
    "test_labelsC=np.zeros(M)\n",
    "\n",
    "for i in range(M):\n",
    "    X=np.random.standard_cauchy(size=N)\n",
    "    test_dataCl[i,]=np.log(abs(X))\n",
    "    test_dataC[i,]=X\n",
    "    test_labelsC[i]=1"
   ]
  },
  {
   "cell_type": "markdown",
   "metadata": {},
   "source": [
    "I want to compare the network to a more \"traditional\" statistical procedure and therefore I implemented the method k_star, which I developed for threshold selection and adaptive estimation of the extreme value index using the Hill estimator. Information about the Hill estimator can be found here on [wikipedia](https://en.wikipedia.org/wiki/Heavy-tailed_distribution#Hill's_tail-index_estimator). Note that a different notation is used, $\\xi$ corresponds to $1/\\gamma$."
   ]
  },
  {
   "cell_type": "code",
   "execution_count": 54,
   "metadata": {},
   "outputs": [],
   "source": [
    "def hill(X,k):\n",
    "    N=len(X)\n",
    "    X=np.sort(X)\n",
    "    temp=np.log(X[range(N-k-1,N)])-np.log(X[N-k-1])\n",
    "    return(np.sum(temp)/(k+1))\n",
    "\n",
    "def de_Vries(X,k):\n",
    "    N=len(X)\n",
    "    X=np.sort(X)\n",
    "    temp=np.log(X[range(N-k-1,N)])-np.log(X[N-k-1])\n",
    "    temp2=np.power(temp,2)\n",
    "    return(np.sum(temp2)/(2*np.sum(temp)))"
   ]
  },
  {
   "cell_type": "code",
   "execution_count": 55,
   "metadata": {},
   "outputs": [],
   "source": [
    "def k_star(X):\n",
    "    n_p=sum(1 for i in range(len(X)) if X[i]>0)\n",
    "    K=range(4,n_p)\n",
    "    H=np.zeros(len(K))\n",
    "    V=np.zeros(len(K))\n",
    "    err=np.zeros(len(K))\n",
    "    for k in K:\n",
    "        H[k-K[0]]=hill(X,k)\n",
    "        V[k-K[0]]=de_Vries(X,k)\n",
    "        Hk=H[range(k-K[0]+1)]\n",
    "        Vk=V[range(k-K[0]+1)]\n",
    "        upHk=(np.cumsum(Hk[::-1]) / range(1, len(Hk)+1))[::-1]\n",
    "        err[k-K[0]]=np.mean(np.power(Hk-Vk-upHk+upHk[0],2))\n",
    "    sta=np.zeros(len(K))\n",
    "    for k in K:\n",
    "        sta[k-K[0]]=np.mean(np.power( (err[k-K[0]]-err[range(max(0,k-K[0]-2),min(len(K)-1,k-K[0]+2))]) ,2))\n",
    "        \n",
    "    kstar=K[np.argmin(sta)]\n",
    "    upHk=(np.cumsum(H[kstar-K[0]::-1]) / range(1,kstar-K[0]+2))[::-1]\n",
    "    MSE=np.zeros(len(range(4,kstar+1)))\n",
    "    for k in range(4,kstar+1):\n",
    "        MSE[k-4]=(2*V[kstar-K[0]]-H[kstar-K[0]])**2/k+4*(upHk[k-4]-upHk[0])**2\n",
    "        \n",
    "    return K[np.argmin(MSE)]"
   ]
  },
  {
   "cell_type": "code",
   "execution_count": 56,
   "metadata": {},
   "outputs": [],
   "source": [
    "gamma_hatF=np.zeros(500)\n",
    "\n",
    "for i in range(500):\n",
    "    X=test_dataF[i,]\n",
    "    k1=k_star(X)\n",
    "    gamma_hatF[i]=hill(X,k1)\n",
    "    \n",
    "    \n",
    "gamma_hatC=np.zeros(500)\n",
    "\n",
    "for i in range(500):\n",
    "    X=test_dataC[i,]\n",
    "    k1=k_star(X)\n",
    "    gamma_hatC[i]=hill(X,k1)"
   ]
  },
  {
   "cell_type": "markdown",
   "metadata": {},
   "source": [
    "Now we can compare the performance of the method k_star to the deep neural network (DNN) in terms of the mean square error (MSE) and the mean absolute error (MAE). We obseve that the DNN performs better in both examples. Although our method k_star is not a benchmark procedure, it performs quite comparable to other methods on most distributions. Thus, it offers a realistic evaluation of the estimation performance of the neural network."
   ]
  },
  {
   "cell_type": "code",
   "execution_count": 57,
   "metadata": {},
   "outputs": [
    {
     "name": "stdout",
     "output_type": "stream",
     "text": [
      "k_star - Fréchet - MSE: 0.00478477503203 , MAE: 0.0549068523481\n",
      "500/500 [==============================] - 0s 69us/step\n",
      "DNN - Fréchet - MSE: 0.00182119782083 , MAE: 0.0338971656859\n"
     ]
    },
    {
     "data": {
      "image/png": "[encoded data removed]",
      "text/plain": [
       "<Figure size 432x288 with 1 Axes>"
      ]
     },
     "metadata": {},
     "output_type": "display_data"
    }
   ],
   "source": [
    "print(\"k_star - Fréchet - MSE:\", np.mean(np.power((gamma_hatF-test_labelsF),2)),\", MAE:\", np.mean(np.abs((gamma_hatF-test_labelsF))))\n",
    "evF=modelH.evaluate(test_dataFl, test_labelsF)\n",
    "print(\"DNN - Fréchet - MSE:\", evF[0], \", MAE:\", evF[1])\n",
    "\n",
    "plt.hist(gamma_hatF, bins=20, label=\"k_star\")\n",
    "plt.hist(modelH.predict(test_dataFl), bins=20, label=\"DNN\")\n",
    "legend = plt.legend()\n",
    "plt.show()"
   ]
  },
  {
   "cell_type": "code",
   "execution_count": 58,
   "metadata": {},
   "outputs": [
    {
     "name": "stdout",
     "output_type": "stream",
     "text": [
      "k_star - Cauchy - MSE: 0.0327476747584 , MAE: 0.141871856572\n",
      "500/500 [==============================] - 0s 65us/step\n",
      "DNN - Cauchy - MSE: 0.0132289161235 , MAE: 0.0998262720704\n"
     ]
    },
    {
     "data": {
      "image/png": "[encoded data removed]",
      "text/plain": [
       "<Figure size 432x288 with 1 Axes>"
      ]
     },
     "metadata": {},
     "output_type": "display_data"
    }
   ],
   "source": [
    "print(\"k_star - Cauchy - MSE:\", np.mean(np.power((gamma_hatC-test_labelsC),2)),\", MAE:\", np.mean(np.abs((gamma_hatC-test_labelsC))))\n",
    "evC=modelH.evaluate(test_dataCl, test_labelsC)\n",
    "print(\"DNN - Cauchy - MSE:\", evC[0], \", MAE:\", evC[1])\n",
    "\n",
    "plt.hist(gamma_hatC, bins=20, label=\"k_star\")\n",
    "plt.hist(modelH.predict(test_dataCl), bins=20, label=\"DNN\")\n",
    "legend = plt.legend()\n",
    "plt.show()"
   ]
  },
  {
   "cell_type": "markdown",
   "metadata": {},
   "source": [
    "## Considering different sample sizes\n",
    "\n",
    "A major drawback of such a network is that the architecture determines the number of observations, which can be processed. Thus, you would either train and possibly model an new network for each sample sizes your are confronted with or you rather consider drawing from you data with replacement to obtain samples of the same size. The second approach makes sense, if you have a various samples which do not very drastically. <br>\n",
    "\n",
    "To evaluate this idea the test data gereated in the following has different sample sizes, but in constrast to the k_star method the DNN is applied to resampled versions of size N."
   ]
  },
  {
   "cell_type": "code",
   "execution_count": 59,
   "metadata": {},
   "outputs": [],
   "source": [
    "M=500\n",
    "dif=200 # sample sizes cosidered range from N-dif to N+dif\n",
    "\n",
    "## Fréchet(2)\n",
    "test_dataFlv=np.zeros((M,N))\n",
    "test_dataFv=np.zeros((M,N+dif))\n",
    "test_labelsFv=np.zeros(M)\n",
    "    \n",
    "for i in range(M):\n",
    "    gamma=1/2\n",
    "    Nr=np.random.randint(N-dif,N+dif)\n",
    "    Xr=stat.invweibull.rvs(c=1/gamma, size=Nr)\n",
    "    if Nr>=N:\n",
    "        X=np.asarray(random.sample(list(Xr),N))\n",
    "    else:\n",
    "        X=np.zeros(N)\n",
    "        for j in range(N):\n",
    "            X[j]=random.choice(Xr)\n",
    "    test_dataFlv[i,]=np.log(X)\n",
    "    test_dataFv[i,:len(Xr)]=Xr\n",
    "    test_labelsFv[i]=gamma\n",
    "    \n",
    "    \n",
    "## Cauchy\n",
    "test_dataClv=np.zeros((M,N))\n",
    "test_dataCv=np.zeros((M,N+dif))\n",
    "test_labelsCv=np.zeros(M)\n",
    "\n",
    "for i in range(M):\n",
    "    Nr=np.random.randint(N-dif,N+dif)\n",
    "    Xr=np.random.standard_cauchy(size=Nr)\n",
    "    if Nr>=N:\n",
    "        X=np.asarray(random.sample(list(Xr),N))\n",
    "    else:\n",
    "        X=np.zeros(N)\n",
    "        for j in range(N):\n",
    "            X[j]=random.choice(Xr)\n",
    "    test_dataClv[i,]=np.log(abs(X))\n",
    "    test_dataCv[i,:len(Xr)]=Xr\n",
    "    test_labelsCv[i]=1"
   ]
  },
  {
   "cell_type": "code",
   "execution_count": 60,
   "metadata": {},
   "outputs": [],
   "source": [
    "gamma_hatFv=np.zeros(500)\n",
    "\n",
    "for i in range(500):\n",
    "    X=test_dataFv[i,][test_dataFv[i,]>0]\n",
    "    k1=k_star(X)\n",
    "    gamma_hatFv[i]=hill(X,k1)\n",
    "    \n",
    "    \n",
    "gamma_hatCv=np.zeros(500)\n",
    "\n",
    "for i in range(500):\n",
    "    X=test_dataCv[i,][test_dataCv[i,]>0]\n",
    "    k1=k_star(X)\n",
    "    gamma_hatCv[i]=hill(X,k1)"
   ]
  },
  {
   "cell_type": "code",
   "execution_count": 61,
   "metadata": {},
   "outputs": [
    {
     "name": "stdout",
     "output_type": "stream",
     "text": [
      "k_star - Fréchet - MSE: 0.00606190239339 , MAE: 0.0607154956765\n",
      "500/500 [==============================] - 0s 86us/step\n",
      "DNN - Fréchet - MSE: 0.00235977315716 , MAE: 0.0381741177142\n"
     ]
    },
    {
     "data": {
      "image/png": "[encoded data removed]",
      "text/plain": [
       "<Figure size 432x288 with 1 Axes>"
      ]
     },
     "metadata": {},
     "output_type": "display_data"
    }
   ],
   "source": [
    "print(\"k_star - Fréchet - MSE:\", np.mean(np.power((gamma_hatFv-test_labelsFv),2)),\", MAE:\", np.mean(np.abs((gamma_hatFv-test_labelsFv))))\n",
    "evF=modelH.evaluate(test_dataFlv, test_labelsFv)\n",
    "print(\"DNN - Fréchet - MSE:\", evF[0], \", MAE:\", evF[1])\n",
    "\n",
    "plt.hist(gamma_hatFv, bins=20, label=\"k_star\")\n",
    "plt.hist(modelH.predict(test_dataFlv), bins=20, label=\"DNN\")\n",
    "legend = plt.legend()\n",
    "plt.show()"
   ]
  },
  {
   "cell_type": "code",
   "execution_count": 62,
   "metadata": {},
   "outputs": [
    {
     "name": "stdout",
     "output_type": "stream",
     "text": [
      "k_star - Cauchy - MSE: 0.0367147298227 , MAE: 0.145202995171\n",
      "500/500 [==============================] - 0s 126us/step\n",
      "DNN - Cauchy - MSE: 0.0169743040651 , MAE: 0.111550702095\n"
     ]
    },
    {
     "data": {
      "image/png": "[encoded data removed]",
      "text/plain": [
       "<Figure size 432x288 with 1 Axes>"
      ]
     },
     "metadata": {},
     "output_type": "display_data"
    }
   ],
   "source": [
    "print(\"k_star - Cauchy - MSE:\", np.mean(np.power((gamma_hatCv-test_labelsCv),2)),\", MAE:\", np.mean(np.abs((gamma_hatCv-test_labelsCv))))\n",
    "evC=modelH.evaluate(test_dataClv, test_labelsCv)\n",
    "print(\"DNN - Cauchy - MSE:\", evC[0], \", MAE:\", evC[1])\n",
    "\n",
    "plt.hist(gamma_hatCv, bins=20, label=\"k_star\")\n",
    "plt.hist(modelH.predict(test_dataClv), bins=20, label=\"DNN\")\n",
    "legend = plt.legend()\n",
    "plt.show()"
   ]
  },
  {
   "cell_type": "markdown",
   "metadata": {},
   "source": [
    "Surprisingly the DNN does not suffer much from the resampling scheme and still peforms better than k_star. It is also remarkable that the DNN leads to a negative bias when estimating $\\gamma$ for the Cauchy distribution. This could be an interesting starting point for a deeper analysis on how the network functions."
   ]
  },
  {
   "cell_type": "markdown",
   "metadata": {},
   "source": [
    "## Conclusion\n",
    "\n",
    "Training neural networks in order to learn the extreme value index without the necessary selection of a threshold or sample fraction seems worth further investigation. It would be very interesenting to get insight on the structure of the network and understand how it actually performs this estimation, since we could possibly learn about hidden structures in the data exploited by the network."
   ]
  }
 ],
 "metadata": {
  "kernelspec": {
   "display_name": "Python 3",
   "language": "python",
   "name": "python3"
  },
  "language_info": {
   "codemirror_mode": {
    "name": "ipython",
    "version": 3
   },
   "file_extension": ".py",
   "mimetype": "text/x-python",
   "name": "python",
   "nbconvert_exporter": "python",
   "pygments_lexer": "ipython3",
   "version": "3.6.6"
  }
 },
 "nbformat": 4,
 "nbformat_minor": 2
}
