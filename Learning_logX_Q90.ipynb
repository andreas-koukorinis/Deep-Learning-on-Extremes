{
 "cells": [
  {
   "cell_type": "markdown",
   "metadata": {},
   "source": [
    "# Deep Learning of the Extreme Value Index\n",
    "\n",
    "Estimating the extreme value index, which describes the tail behavior of Pareto-type distributions, is a complex task and estimators usually depend on the choice of a threshold, above which the data can be used for statistical inference on extreme events.<br> \n",
    "More specifically, in extreme value analysis one considers observations from a distribution function $F$, which can be approximated by a Pareto distribution in the tail. This means that for $x$ large enough, $$ 1-F(x)\\approx x^{-1/\\gamma}, $$ for $\\gamma>0$. The extreme value index $\\gamma$ describes how likely extremely high observations $x$ are. The higher $\\gamma$ the more likely are extreme outliers. <br>\n",
    "\n",
    "The question I want to discuss here is: Can I train a network on random samples to determine the extreme value index without the selection of a threshold?"
   ]
  },
  {
   "cell_type": "code",
   "execution_count": 1,
   "metadata": {},
   "outputs": [],
   "source": [
    "import tensorflow as tf\n",
    "import numpy as np\n",
    "import matplotlib.pyplot as plt\n",
    "import scipy.stats as stat\n",
    "import random\n",
    "\n",
    "np.random.seed(42)\n",
    "tf.set_random_seed(42)"
   ]
  },
  {
   "cell_type": "markdown",
   "metadata": {},
   "source": [
    "In the following the training data is generated and the labels contain the value of the corresponding extreme value index $\\gamma$. For the network to learn well it is very important to obtain training samples which represent a broad class of distributions. <br>\n",
    "Since I am working on samples from heavy-tailed distributions, which can include extremely high values, I can not use the samples directly to train the network. Instead of the raw obervations I look at their logarithm. This trick leads to a more reasonable range of observed values and is also a natural thing to do in extreme value statistics, as it leads to an exponential approximation of the peak-over-threshold approach instead of a pareto approximation."
   ]
  },
  {
   "cell_type": "code",
   "execution_count": 2,
   "metadata": {},
   "outputs": [],
   "source": [
    "N=500  # sample size\n",
    "M=1000 # number of samples\n",
    "\n",
    "train_data=np.zeros((3*M,N))\n",
    "labels=np.zeros(3*M)\n",
    "\n",
    "# generate M samples following a t-distribution with a random degree of freedom between 1 and 12\n",
    "for i in range(M):\n",
    "    degree=np.random.randint(1,12)\n",
    "    X=np.random.standard_t(df=degree, size=N)\n",
    "    train_data[i,]=np.log(abs(X))\n",
    "    labels[i]=1./degree\n",
    "\n",
    "# generate M samples following a Frechet distribution with random extreme value index between 0 and 3.\n",
    "for i in range(M):\n",
    "    gamma=np.random.uniform(low=0, high=3)\n",
    "    X=stat.invweibull.rvs(c=1/gamma, size=N)\n",
    "    train_data[M+i,]=np.log(X)\n",
    "    labels[M+i]=gamma\n",
    "\n",
    "# generate M samples following a Burr distribution with random extreme value index between 0 and 3.\n",
    "for i in range(M):\n",
    "    gamma=np.random.uniform(low=0, high=3)\n",
    "    X=np.random.uniform(size=N)\n",
    "    X=np.power((1/(1-X) -1), gamma)\n",
    "    train_data[2*M+i,]=np.log(X)\n",
    "    labels[2*M+i]=gamma\n",
    "    "
   ]
  },
  {
   "cell_type": "markdown",
   "metadata": {},
   "source": [
    "## The network architecture\n",
    "\n",
    "In the case considered here, where the input does not contain structral properties, a useful network is a fully connnected sequential model."
   ]
  },
  {
   "cell_type": "code",
   "execution_count": 3,
   "metadata": {},
   "outputs": [],
   "source": [
    "modelH=tf.keras.models.Sequential()\n",
    "modelH.add(tf.keras.layers.Dense(N, input_shape=(N,) , activation='relu', use_bias=True))\n",
    "modelH.add(tf.keras.layers.Dense(2*N, activation='relu', use_bias=True ))\n",
    "modelH.add(tf.keras.layers.Dense(N, activation='relu', use_bias=True ))\n",
    "modelH.add(tf.keras.layers.Dense(1, use_bias=True))\n",
    "\n",
    "modelH.compile(optimizer='adam', loss='mse', metrics=[\"mae\"])\n",
    "#RMSprop each model varies a lot\n",
    "#SGD leads  to nan\n",
    "#with Adam the loss can increase sometimes"
   ]
  },
  {
   "cell_type": "markdown",
   "metadata": {},
   "source": [
    "Just a short check, if the initialized network outputs are not too far away from the true labels. Starting values that are by orders of magnitude higher or smaller than the true label values would slow down the training."
   ]
  },
  {
   "cell_type": "code",
   "execution_count": 4,
   "metadata": {},
   "outputs": [
    {
     "data": {
      "text/plain": [
       "array([[-0.16088665],\n",
       "       [-0.93340528],\n",
       "       [-0.55824888],\n",
       "       ..., \n",
       "       [-0.22655606],\n",
       "       [-0.60341382],\n",
       "       [ 0.03552549]], dtype=float32)"
      ]
     },
     "execution_count": 4,
     "metadata": {},
     "output_type": "execute_result"
    }
   ],
   "source": [
    "modelH.predict(train_data)"
   ]
  },
  {
   "cell_type": "code",
   "execution_count": 5,
   "metadata": {},
   "outputs": [],
   "source": [
    "test_data=np.zeros((3*M,N))\n",
    "test_labels=np.zeros(3*M)\n",
    "\n",
    "for i in range(M):\n",
    "    degree=np.random.randint(1,12)\n",
    "    X=np.random.standard_t(df=degree, size=N)\n",
    "    test_data[i,]=np.log(abs(X))\n",
    "    test_labels[i]=1./degree\n",
    "    \n",
    "for i in range(M):\n",
    "    gamma=np.random.uniform(low=0, high=3)\n",
    "    X=stat.invweibull.rvs(c=1/gamma, size=N)\n",
    "    test_data[M+i,]=np.log(X)\n",
    "    test_labels[M+i]=gamma\n",
    "\n",
    "for i in range(M):\n",
    "    gamma=np.random.uniform(low=0, high=3)\n",
    "    X=np.random.uniform(size=N)\n",
    "    X=np.power((1/(1-X) -1), gamma)\n",
    "    test_data[2*M+i,]=np.log(X)\n",
    "    test_labels[2*M+i]=gamma\n",
    "    "
   ]
  },
  {
   "cell_type": "code",
   "execution_count": 6,
   "metadata": {},
   "outputs": [
    {
     "name": "stdout",
     "output_type": "stream",
     "text": [
      "Train on 3000 samples, validate on 3000 samples\n",
      "Epoch 1/15\n",
      "3000/3000 [==============================] - 1s 500us/step - loss: 1.6689 - mean_absolute_error: 0.4928 - val_loss: 0.0381 - val_mean_absolute_error: 0.1396\n",
      "Epoch 2/15\n",
      "3000/3000 [==============================] - 1s 388us/step - loss: 0.0393 - mean_absolute_error: 0.1228 - val_loss: 0.0273 - val_mean_absolute_error: 0.1163\n",
      "Epoch 3/15\n",
      "3000/3000 [==============================] - 1s 385us/step - loss: 0.0127 - mean_absolute_error: 0.0820 - val_loss: 0.0237 - val_mean_absolute_error: 0.1057\n",
      "Epoch 4/15\n",
      "3000/3000 [==============================] - 1s 395us/step - loss: 0.0070 - mean_absolute_error: 0.0623 - val_loss: 0.0235 - val_mean_absolute_error: 0.1054\n",
      "Epoch 5/15\n",
      "3000/3000 [==============================] - 1s 387us/step - loss: 0.0055 - mean_absolute_error: 0.0536 - val_loss: 0.0222 - val_mean_absolute_error: 0.1024\n",
      "Epoch 6/15\n",
      "3000/3000 [==============================] - 1s 419us/step - loss: 0.0059 - mean_absolute_error: 0.0486 - val_loss: 0.0216 - val_mean_absolute_error: 0.1000\n",
      "Epoch 7/15\n",
      "3000/3000 [==============================] - 1s 390us/step - loss: 0.0073 - mean_absolute_error: 0.0521 - val_loss: 0.0221 - val_mean_absolute_error: 0.1012\n",
      "Epoch 8/15\n",
      "3000/3000 [==============================] - 1s 396us/step - loss: 0.0071 - mean_absolute_error: 0.0530 - val_loss: 0.0208 - val_mean_absolute_error: 0.0990\n",
      "Epoch 9/15\n",
      "3000/3000 [==============================] - 1s 400us/step - loss: 0.0072 - mean_absolute_error: 0.0546 - val_loss: 0.0201 - val_mean_absolute_error: 0.0971\n",
      "Epoch 10/15\n",
      "3000/3000 [==============================] - 1s 405us/step - loss: 0.0066 - mean_absolute_error: 0.0503 - val_loss: 0.0203 - val_mean_absolute_error: 0.0963\n",
      "Epoch 11/15\n",
      "3000/3000 [==============================] - 1s 401us/step - loss: 0.0065 - mean_absolute_error: 0.0506 - val_loss: 0.0193 - val_mean_absolute_error: 0.0955\n",
      "Epoch 12/15\n",
      "3000/3000 [==============================] - 1s 398us/step - loss: 0.0059 - mean_absolute_error: 0.0471 - val_loss: 0.0189 - val_mean_absolute_error: 0.0934\n",
      "Epoch 13/15\n",
      "3000/3000 [==============================] - 1s 391us/step - loss: 0.0043 - mean_absolute_error: 0.0405 - val_loss: 0.0196 - val_mean_absolute_error: 0.0961\n",
      "Epoch 14/15\n",
      "3000/3000 [==============================] - 1s 386us/step - loss: 0.0039 - mean_absolute_error: 0.0395 - val_loss: 0.0181 - val_mean_absolute_error: 0.0917\n",
      "Epoch 15/15\n",
      "3000/3000 [==============================] - 1s 407us/step - loss: 0.0046 - mean_absolute_error: 0.0420 - val_loss: 0.0181 - val_mean_absolute_error: 0.0925\n"
     ]
    },
    {
     "data": {
      "text/plain": [
       "<tensorflow.python.keras.callbacks.History at 0x7fcd4ccca400>"
      ]
     },
     "execution_count": 6,
     "metadata": {},
     "output_type": "execute_result"
    }
   ],
   "source": [
    "modelH.fit(train_data, labels, epochs=15, validation_data=(test_data, test_labels))"
   ]
  },
  {
   "cell_type": "markdown",
   "metadata": {},
   "source": [
    "## Comparison for fixed sample size\n",
    "\n",
    "Now I want to test the network's performance on samples from a Fréchet(2) and a Cauchy distribution, where the true extreme value index is 1/2 and 1 respectively. Both distibutions are commonly used examples in extreme value analysis."
   ]
  },
  {
   "cell_type": "code",
   "execution_count": 7,
   "metadata": {},
   "outputs": [],
   "source": [
    "M=500 # number of samples\n",
    "\n",
    "## Fréchet(2)\n",
    "test_dataF=np.zeros((M,N))\n",
    "test_labelsF=np.zeros(M)\n",
    "    \n",
    "for i in range(M):\n",
    "    gamma=1/2\n",
    "    X=stat.invweibull.rvs(c=1/gamma, size=N)\n",
    "    test_dataF[i,]=X\n",
    "    test_labelsF[i]=gamma\n",
    "    \n",
    "test_dataFl=np.log(test_dataF)   \n",
    "    \n",
    "## Cauchy\n",
    "test_dataC=np.zeros((M,N))\n",
    "test_labelsC=np.zeros(M)\n",
    "\n",
    "for i in range(M):\n",
    "    X=np.random.standard_cauchy(size=N)\n",
    "    test_dataC[i,]=X\n",
    "    test_labelsC[i]=1\n",
    "\n",
    "test_dataCl=np.log(abs(test_dataC))"
   ]
  },
  {
   "cell_type": "markdown",
   "metadata": {},
   "source": [
    "I want to compare the network to a more \"traditional\" statistical procedure, which is based on threshold selection and adaptive estimation of the extreme value index using the Hill estimator. A simple way to select the threshold is to use the empirical 90%-quantile, i.e. the (n-k)-th largest observation, which leads to a Hill estimate evaluated at the sample fraction $k=\\lfloor 0.1n\\rfloor$. This approach is often used in applications, it is theoretically not consistent, but performs sufficiently well in many finite sample situations. <br>\n",
    "Information about the Hill estimator can be found here on [wikipedia](https://en.wikipedia.org/wiki/Heavy-tailed_distribution#Hill's_tail-index_estimator). Note that a different notation is used, $\\xi$ corresponds to $1/\\gamma$."
   ]
  },
  {
   "cell_type": "code",
   "execution_count": 8,
   "metadata": {},
   "outputs": [],
   "source": [
    "def hill(X,k):\n",
    "    N=len(X)\n",
    "    X=np.sort(X)\n",
    "    temp=np.log(X[range(N-k-1,N)])-np.log(X[N-k-1])\n",
    "    return np.sum(temp)/(k+1)"
   ]
  },
  {
   "cell_type": "code",
   "execution_count": 9,
   "metadata": {},
   "outputs": [],
   "source": [
    "gamma_hatF=np.zeros(500)\n",
    "\n",
    "for i in range(500):\n",
    "    X=test_dataF[i,]\n",
    "    k1=np.int_(np.floor(len(X)*0.1))\n",
    "    gamma_hatF[i]=hill(X,k1)\n",
    "    \n",
    "    \n",
    "gamma_hatC=np.zeros(500)\n",
    "\n",
    "for i in range(500):\n",
    "    X=test_dataC[i,]\n",
    "    k1=np.int_(np.floor(len(X[X>0])*0.1))\n",
    "    gamma_hatC[i]=hill(X,k1)"
   ]
  },
  {
   "cell_type": "markdown",
   "metadata": {},
   "source": [
    "Now we can compare the performance of the adaptive Hill estimator to the deep neural network (DNN) in terms of the mean square error (MSE) and the mean absolute error (MAE). We obseve that the DNN performs better in both examples. Although the 90%-quantile is not an asymptotically optimal procedure, it still offers a good first evaluation of the estimation performance of the neural network, since it can be considered a benchmark procedure."
   ]
  },
  {
   "cell_type": "code",
   "execution_count": 10,
   "metadata": {},
   "outputs": [
    {
     "name": "stdout",
     "output_type": "stream",
     "text": [
      "90%-quantile - Fréchet - MSE: 0.00466121653522 , MAE: 0.0545366741264\n",
      "500/500 [==============================] - 0s 116us/step\n",
      "DNN - Fréchet - MSE: 0.00158139832038 , MAE: 0.0316251179576\n"
     ]
    },
    {
     "data": {
      "image/png": "[encoded data removed]",
      "text/plain": [
       "<Figure size 432x288 with 1 Axes>"
      ]
     },
     "metadata": {},
     "output_type": "display_data"
    }
   ],
   "source": [
    "print(\"90%-quantile - Fréchet - MSE:\", np.mean(np.power((gamma_hatF-test_labelsF),2)),\n",
    "      \", MAE:\", np.mean(np.abs((gamma_hatF-test_labelsF))))\n",
    "evF=modelH.evaluate(test_dataFl, test_labelsF)\n",
    "print(\"DNN - Fréchet - MSE:\", evF[0], \", MAE:\", evF[1])\n",
    "\n",
    "plt.hist(gamma_hatF, bins=20, label=\"Q90\")\n",
    "plt.hist(modelH.predict(test_dataFl), bins=20, label=\"DNN\")\n",
    "legend = plt.legend()\n",
    "plt.show()"
   ]
  },
  {
   "cell_type": "code",
   "execution_count": 11,
   "metadata": {},
   "outputs": [
    {
     "name": "stdout",
     "output_type": "stream",
     "text": [
      "90%-quantile - Cauchy - MSE: 0.0380056946315 , MAE: 0.15418273871\n",
      "500/500 [==============================] - 0s 68us/step\n",
      "DNN - Cauchy - MSE: 0.0295298090875 , MAE: 0.154257975101\n"
     ]
    },
    {
     "data": {
      "image/png": "[encoded data removed]",
      "text/plain": [
       "<Figure size 432x288 with 1 Axes>"
      ]
     },
     "metadata": {},
     "output_type": "display_data"
    }
   ],
   "source": [
    "print(\"90%-quantile - Cauchy - MSE:\", np.mean(np.power((gamma_hatC-test_labelsC),2)),\n",
    "      \", MAE:\", np.mean(np.abs((gamma_hatC-test_labelsC))))\n",
    "evC=modelH.evaluate(test_dataCl, test_labelsC)\n",
    "print(\"DNN - Cauchy - MSE:\", evC[0], \", MAE:\", evC[1])\n",
    "\n",
    "plt.hist(gamma_hatC, bins=20, label=\"Q90\")\n",
    "plt.hist(modelH.predict(test_dataCl), bins=20, label=\"DNN\")\n",
    "legend = plt.legend()\n",
    "plt.show()"
   ]
  },
  {
   "cell_type": "markdown",
   "metadata": {},
   "source": [
    "## Considering different sample sizes\n",
    "\n",
    "A major drawback of such a network is that the architecture determines the number of observations that can be processed. Thus, you would either train a seperate network for each sample sizes your are confronted with or you consider drawing from your data with replacement to obtain samples of the same size. The second approach makes sense, if you have a various samples whose sample size does not vary too much. <br>\n",
    "\n",
    "To evaluate this idea, the test data generated in the following has different sample sizes, but in contrast to the 90%-quantile method the DNN is applied to resampled versions of size N."
   ]
  },
  {
   "cell_type": "code",
   "execution_count": 12,
   "metadata": {},
   "outputs": [],
   "source": [
    "M=500\n",
    "dif=200 # sample sizes considered range from N-dif to N+dif\n",
    "\n",
    "## Fréchet(2)\n",
    "test_dataFlv=np.zeros((M,N))\n",
    "test_dataFv=np.zeros((M,N+dif))\n",
    "test_labelsFv=np.zeros(M)\n",
    "    \n",
    "for i in range(M):\n",
    "    gamma=1/2\n",
    "    Nr=np.random.randint(N-dif,N+dif)\n",
    "    Xr=stat.invweibull.rvs(c=1/gamma, size=Nr)\n",
    "    if Nr>=N:\n",
    "        X=np.asarray(random.sample(list(Xr),N))\n",
    "    else:\n",
    "        X=np.zeros(N)\n",
    "        for j in range(N):\n",
    "            X[j]=random.choice(Xr)\n",
    "    test_dataFlv[i,]=np.log(X)\n",
    "    test_dataFv[i,:len(Xr)]=Xr\n",
    "    test_labelsFv[i]=gamma\n",
    "    \n",
    "    \n",
    "## Cauchy\n",
    "test_dataClv=np.zeros((M,N))\n",
    "test_dataCv=np.zeros((M,N+dif))\n",
    "test_labelsCv=np.zeros(M)\n",
    "\n",
    "for i in range(M):\n",
    "    Nr=np.random.randint(N-dif,N+dif)\n",
    "    Xr=np.random.standard_cauchy(size=Nr)\n",
    "    if Nr>=N:\n",
    "        X=np.asarray(random.sample(list(Xr),N))\n",
    "    else:\n",
    "        X=np.zeros(N)\n",
    "        for j in range(N):\n",
    "            X[j]=random.choice(Xr)\n",
    "    test_dataClv[i,]=np.log(abs(X))\n",
    "    test_dataCv[i,:len(Xr)]=Xr\n",
    "    test_labelsCv[i]=1"
   ]
  },
  {
   "cell_type": "code",
   "execution_count": 13,
   "metadata": {},
   "outputs": [],
   "source": [
    "gamma_hatFv=np.zeros(500)\n",
    "\n",
    "for i in range(500):\n",
    "    X=test_dataFv[i,][test_dataFv[i,]>0]\n",
    "    k1=np.int_(np.floor(len(X[X>0])*0.1))\n",
    "    gamma_hatFv[i]=hill(X,k1)\n",
    "    \n",
    "    \n",
    "gamma_hatCv=np.zeros(500)\n",
    "\n",
    "for i in range(500):\n",
    "    X=test_dataCv[i,][test_dataCv[i,]>0]\n",
    "    k1=np.int_(np.floor(len(X[X>0])*0.1))\n",
    "    gamma_hatCv[i]=hill(X,k1)"
   ]
  },
  {
   "cell_type": "code",
   "execution_count": 14,
   "metadata": {},
   "outputs": [
    {
     "name": "stdout",
     "output_type": "stream",
     "text": [
      "90%-quantile - Fréchet - MSE: 0.00514669700271 , MAE: 0.0573332797615\n",
      "500/500 [==============================] - 0s 73us/step\n",
      "DNN - Fréchet - MSE: 0.00204296389408 , MAE: 0.0351358177066\n"
     ]
    },
    {
     "data": {
      "image/png": "[encoded data removed]",
      "text/plain": [
       "<Figure size 432x288 with 1 Axes>"
      ]
     },
     "metadata": {},
     "output_type": "display_data"
    }
   ],
   "source": [
    "print(\"90%-quantile - Fréchet - MSE:\", np.mean(np.power((gamma_hatFv-test_labelsFv),2)),\n",
    "      \", MAE:\", np.mean(np.abs((gamma_hatFv-test_labelsFv))))\n",
    "evF=modelH.evaluate(test_dataFlv, test_labelsFv)\n",
    "print(\"DNN - Fréchet - MSE:\", evF[0], \", MAE:\", evF[1])\n",
    "\n",
    "plt.hist(gamma_hatFv, bins=20, label=\"Q90\")\n",
    "plt.hist(modelH.predict(test_dataFlv), bins=20, label=\"DNN\")\n",
    "legend = plt.legend()\n",
    "plt.show()"
   ]
  },
  {
   "cell_type": "code",
   "execution_count": 15,
   "metadata": {},
   "outputs": [
    {
     "name": "stdout",
     "output_type": "stream",
     "text": [
      "90%-quantile - Cauchy - MSE: 0.0442833781292 , MAE: 0.168162100913\n",
      "500/500 [==============================] - 0s 111us/step\n",
      "DNN - Cauchy - MSE: 0.0317210486829 , MAE: 0.155647257328\n"
     ]
    },
    {
     "data": {
      "image/png": "[encoded data removed]",
      "text/plain": [
       "<Figure size 432x288 with 1 Axes>"
      ]
     },
     "metadata": {},
     "output_type": "display_data"
    }
   ],
   "source": [
    "print(\"90%-quantile - Cauchy - MSE:\", np.mean(np.power((gamma_hatCv-test_labelsCv),2)),\n",
    "      \", MAE:\", np.mean(np.abs((gamma_hatCv-test_labelsCv))))\n",
    "evC=modelH.evaluate(test_dataClv, test_labelsCv)\n",
    "print(\"DNN - Cauchy - MSE:\", evC[0], \", MAE:\", evC[1])\n",
    "\n",
    "plt.hist(gamma_hatCv, bins=20, label=\"Q90\")\n",
    "plt.hist(modelH.predict(test_dataClv), bins=20, label=\"DNN\")\n",
    "legend = plt.legend()\n",
    "plt.show()"
   ]
  },
  {
   "cell_type": "markdown",
   "metadata": {},
   "source": [
    "Surprisingly the DNN does not suffer much from the resampling scheme and still peforms better than the 90%-quantile. Though, it is remarkable that the DNN leads to a negative bias when estimating $\\gamma$ for the Cauchy distribution. This could be an interesting starting point for a deeper analysis on how the network functions."
   ]
  },
  {
   "cell_type": "markdown",
   "metadata": {},
   "source": [
    "## Conclusion\n",
    "\n",
    "Training neural networks in order to learn the extreme value index without the necessary selection of a threshold or sample fraction seems worth further investigation. It would be very interesting to get insight on the structure of the network and understand how it actually performs this estimation, since we could possibly learn about hidden structures in the data exploited by the network."
   ]
  }
 ],
 "metadata": {
  "kernelspec": {
   "display_name": "Python 3",
   "language": "python",
   "name": "python3"
  },
  "language_info": {
   "codemirror_mode": {
    "name": "ipython",
    "version": 3
   },
   "file_extension": ".py",
   "mimetype": "text/x-python",
   "name": "python",
   "nbconvert_exporter": "python",
   "pygments_lexer": "ipython3",
   "version": "3.6.6"
  }
 },
 "nbformat": 4,
 "nbformat_minor": 2
}
